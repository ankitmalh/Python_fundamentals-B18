{
 "cells": [
  {
   "cell_type": "code",
   "execution_count": 2,
   "metadata": {},
   "outputs": [
    {
     "name": "stdout",
     "output_type": "stream",
     "text": [
      "Tell me  something and i will Repeat it back for youhow are you doing\n",
      "how are you doing\n"
     ]
    }
   ],
   "source": [
    "message=input('Tell me  something and i will Repeat it back for you')\n",
    "print(message)\n"
   ]
  },
  {
   "cell_type": "code",
   "execution_count": 13,
   "metadata": {},
   "outputs": [
    {
     "name": "stdout",
     "output_type": "stream",
     "text": [
      "please enter your name:ankit\n",
      " Welcome back, Good to have you again,print(name)\n"
     ]
    }
   ],
   "source": [
    "name=input('please enter your name:')\n",
    "print(f\" Welcome back, Good to have you again,print(name)\")"
   ]
  },
  {
   "cell_type": "code",
   "execution_count": 12,
   "metadata": {},
   "outputs": [
    {
     "name": "stdout",
     "output_type": "stream",
     "text": [
      "please enter your name:ankit\n",
      " Welcome back, Good to have you again,(name.title())\n"
     ]
    }
   ],
   "source": [
    "name=input('please enter your name:')\n",
    "print(f\" Welcome back, Good to have you again,(name.title())\")"
   ]
  },
  {
   "cell_type": "code",
   "execution_count": 93,
   "metadata": {},
   "outputs": [
    {
     "name": "stdout",
     "output_type": "stream",
     "text": [
      "how old are you?45\n",
      "you are eligible to vote\n",
      "have you registered yourself\n"
     ]
    }
   ],
   "source": [
    "age = input('how old are you?')\n",
    "age = int(age)\n",
    "if age >= 18:\n",
    "    print('you are eligible to vote')\n",
    "    print('have you registered yourself')\n",
    "else:\n",
    "    print('you are not eligible to vote')\n",
    "    print('try next year')"
   ]
  },
  {
   "cell_type": "code",
   "execution_count": null,
   "metadata": {},
   "outputs": [],
   "source": []
  }
 ],
 "metadata": {
  "kernelspec": {
   "display_name": "Python 3",
   "language": "python",
   "name": "python3"
  },
  "language_info": {
   "codemirror_mode": {
    "name": "ipython",
    "version": 3
   },
   "file_extension": ".py",
   "mimetype": "text/x-python",
   "name": "python",
   "nbconvert_exporter": "python",
   "pygments_lexer": "ipython3",
   "version": "3.7.6"
  }
 },
 "nbformat": 4,
 "nbformat_minor": 4
}
