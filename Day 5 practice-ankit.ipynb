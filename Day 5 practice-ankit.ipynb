{
 "cells": [
  {
   "cell_type": "code",
   "execution_count": 9,
   "metadata": {},
   "outputs": [
    {
     "name": "stdout",
     "output_type": "stream",
     "text": [
      "['devi', 'naresh', 'satya', 'neha', 'rahul', 'vijay', 'sameer', 'parul']\n"
     ]
    }
   ],
   "source": [
    "my_students=['devi','naresh','satya','neha','rahul','vijay','sameer','parul']\n",
    "print(my_students)"
   ]
  },
  {
   "cell_type": "code",
   "execution_count": 2,
   "metadata": {},
   "outputs": [
    {
     "data": {
      "text/plain": [
       "list"
      ]
     },
     "execution_count": 2,
     "metadata": {},
     "output_type": "execute_result"
    }
   ],
   "source": [
    "type(my_students)"
   ]
  },
  {
   "cell_type": "code",
   "execution_count": 4,
   "metadata": {},
   "outputs": [
    {
     "name": "stdout",
     "output_type": "stream",
     "text": [
      "keep up the good work,Devi\n"
     ]
    }
   ],
   "source": [
    "print(f\"keep up the good work,{my_students[0].title()}\")"
   ]
  },
  {
   "cell_type": "code",
   "execution_count": 6,
   "metadata": {},
   "outputs": [
    {
     "name": "stdout",
     "output_type": "stream",
     "text": [
      "devi\n",
      "naresh\n",
      "satya\n",
      "neha\n",
      "rahul\n",
      "vijay\n",
      "sameer\n",
      "parul\n"
     ]
    }
   ],
   "source": [
    "for student in my_students:\n",
    "    print(student)"
   ]
  },
  {
   "cell_type": "code",
   "execution_count": 7,
   "metadata": {},
   "outputs": [
    {
     "name": "stdout",
     "output_type": "stream",
     "text": [
      "keep up the good work,Parul\n"
     ]
    }
   ],
   "source": [
    "print(f\"keep up the good work,{student.title()}\")"
   ]
  },
  {
   "cell_type": "code",
   "execution_count": 12,
   "metadata": {},
   "outputs": [
    {
     "name": "stdout",
     "output_type": "stream",
     "text": [
      "keep up the good work,Devi\n",
      "keep up the good work,Naresh\n",
      "keep up the good work,Satya\n",
      "keep up the good work,Neha\n",
      "keep up the good work,Rahul\n",
      "keep up the good work,Vijay\n",
      "keep up the good work,Sameer\n",
      "keep up the good work,Parul\n"
     ]
    }
   ],
   "source": [
    "for student in my_students:\n",
    "    print(f\"keep up the good work,{student.title()}\")"
   ]
  },
  {
   "cell_type": "code",
   "execution_count": 14,
   "metadata": {},
   "outputs": [
    {
     "name": "stdout",
     "output_type": "stream",
     "text": [
      " Looking forward to receive your mails,Parul\n",
      "\n"
     ]
    }
   ],
   "source": [
    "print(f\" Looking forward to receive your mails,{student.title()}\\n\")"
   ]
  },
  {
   "cell_type": "code",
   "execution_count": 15,
   "metadata": {},
   "outputs": [
    {
     "name": "stdout",
     "output_type": "stream",
     "text": [
      " Looking forward to receive your mails,Devi\n",
      "\n",
      " Looking forward to receive your mails,Naresh\n",
      "\n",
      " Looking forward to receive your mails,Satya\n",
      "\n",
      " Looking forward to receive your mails,Neha\n",
      "\n",
      " Looking forward to receive your mails,Rahul\n",
      "\n",
      " Looking forward to receive your mails,Vijay\n",
      "\n",
      " Looking forward to receive your mails,Sameer\n",
      "\n",
      " Looking forward to receive your mails,Parul\n",
      "\n"
     ]
    }
   ],
   "source": [
    "for student in my_students:\n",
    "    print(f\" Looking forward to receive your mails,{student.title()}\\n\")"
   ]
  },
  {
   "cell_type": "code",
   "execution_count": 20,
   "metadata": {},
   "outputs": [
    {
     "name": "stdout",
     "output_type": "stream",
     "text": [
      " Keep up the good work,Devi\n",
      " looking forward to receive your mails\n",
      " Keep up the good work,Naresh\n",
      " looking forward to receive your mails\n",
      " Keep up the good work,Satya\n",
      " looking forward to receive your mails\n",
      " Keep up the good work,Neha\n",
      " looking forward to receive your mails\n",
      " Keep up the good work,Rahul\n",
      " looking forward to receive your mails\n",
      " Keep up the good work,Vijay\n",
      " looking forward to receive your mails\n",
      " Keep up the good work,Sameer\n",
      " looking forward to receive your mails\n",
      " Keep up the good work,Parul\n",
      " looking forward to receive your mails\n"
     ]
    }
   ],
   "source": [
    "for student in my_students:\n",
    "    print(f\" Keep up the good work,{student.title()}\\n\" f\" looking forward to receive your mails\")"
   ]
  },
  {
   "cell_type": "code",
   "execution_count": 4,
   "metadata": {},
   "outputs": [
    {
     "name": "stdout",
     "output_type": "stream",
     "text": [
      "['audi', 'maruti', 'bmw', 'toyota', 'benz']\n"
     ]
    }
   ],
   "source": [
    "cars=['audi','maruti','bmw','toyota','benz']\n",
    "print(cars)"
   ]
  },
  {
   "cell_type": "code",
   "execution_count": 10,
   "metadata": {},
   "outputs": [
    {
     "name": "stdout",
     "output_type": "stream",
     "text": [
      "AUDI\n",
      "MARUTI\n",
      "BMW\n",
      "TOYOTA\n",
      "BENZ\n",
      "Benz\n"
     ]
    }
   ],
   "source": [
    "for car in cars:\n",
    "    ifcar =='bmw'\n",
    "    print(car.upper())\n",
    "else:    \n",
    "    print(car.title())"
   ]
  },
  {
   "cell_type": "code",
   "execution_count": 8,
   "metadata": {},
   "outputs": [],
   "source": [
    "car='bmw'"
   ]
  },
  {
   "cell_type": "code",
   "execution_count": 7,
   "metadata": {},
   "outputs": [
    {
     "name": "stdout",
     "output_type": "stream",
     "text": [
      "AUDI\n",
      "MARUTI\n",
      "BMW\n",
      "TOYOTA\n",
      "BENZ\n",
      "Benz\n"
     ]
    }
   ],
   "source": [
    "for car in cars:\n",
    "    ifcar =='bmw'\n",
    "    print(car.upper())\n",
    "else:    \n",
    "    print(car.title())\n",
    "    "
   ]
  },
  {
   "cell_type": "code",
   "execution_count": null,
   "metadata": {},
   "outputs": [],
   "source": []
  },
  {
   "cell_type": "code",
   "execution_count": null,
   "metadata": {},
   "outputs": [],
   "source": []
  },
  {
   "cell_type": "code",
   "execution_count": null,
   "metadata": {},
   "outputs": [],
   "source": []
  }
 ],
 "metadata": {
  "kernelspec": {
   "display_name": "Python 3",
   "language": "python",
   "name": "python3"
  },
  "language_info": {
   "codemirror_mode": {
    "name": "ipython",
    "version": 3
   },
   "file_extension": ".py",
   "mimetype": "text/x-python",
   "name": "python",
   "nbconvert_exporter": "python",
   "pygments_lexer": "ipython3",
   "version": "3.7.6"
  }
 },
 "nbformat": 4,
 "nbformat_minor": 4
}
